{
 "cells": [
  {
   "cell_type": "markdown",
   "id": "1a501474",
   "metadata": {},
   "source": [
    "# Classificador de ataque cardíaco\n",
    "- Age : Age of the patient\n",
    "- Sex : Sex of the patient\n",
    "- exang: exercise induced angina (1 = yes; 0 = no)\n",
    "- ca: number of major vessels (0-3)\n",
    "- cp : Chest Pain type chest pain type\n",
    "-- Value 1: typical angina\n",
    "-- Value 2: atypical angina\n",
    "-- Value 3: non-anginal pain\n",
    "-- Value 4: asymptomatic\n",
    "- trtbps : resting blood pressure (in mm Hg)\n",
    "- chol : cholestoral in mg/dl fetched via BMI sensor\n",
    "- fbs : (fasting blood sugar > 120 mg/dl) (1 = true; 0 = false)\n",
    "- rest_ecg : resting electrocardiographic results\n",
    "-- Value 0: normal\n",
    "-- Value 1: having ST-T wave abnormality (T wave inversions and/or ST elevation or depression of > 0.05 mV)\n",
    "-- Value 2: showing probable or definite left ventricular hypertrophy by Estes' criteria\n",
    "- thalach : maximum heart rate achieved\n",
    "- target : 0= less chance of heart attack 1= more chance of heart attack\n"
   ]
  },
  {
   "cell_type": "markdown",
   "id": "bf24383e",
   "metadata": {},
   "source": [
    "## 1. Importando dados"
   ]
  },
  {
   "cell_type": "code",
   "execution_count": 1,
   "id": "b3efcbf4",
   "metadata": {},
   "outputs": [],
   "source": [
    "import pandas as pd"
   ]
  },
  {
   "cell_type": "code",
   "execution_count": 2,
   "id": "2bd66ad0",
   "metadata": {},
   "outputs": [],
   "source": [
    "df = pd.read_csv(\"heart.csv\")"
   ]
  },
  {
   "cell_type": "code",
   "execution_count": 4,
   "id": "56cd7081",
   "metadata": {},
   "outputs": [
    {
     "data": {
      "text/html": [
       "<div>\n",
       "<style scoped>\n",
       "    .dataframe tbody tr th:only-of-type {\n",
       "        vertical-align: middle;\n",
       "    }\n",
       "\n",
       "    .dataframe tbody tr th {\n",
       "        vertical-align: top;\n",
       "    }\n",
       "\n",
       "    .dataframe thead th {\n",
       "        text-align: right;\n",
       "    }\n",
       "</style>\n",
       "<table border=\"1\" class=\"dataframe\">\n",
       "  <thead>\n",
       "    <tr style=\"text-align: right;\">\n",
       "      <th></th>\n",
       "      <th>age</th>\n",
       "      <th>sex</th>\n",
       "      <th>cp</th>\n",
       "      <th>trtbps</th>\n",
       "      <th>chol</th>\n",
       "      <th>fbs</th>\n",
       "      <th>restecg</th>\n",
       "      <th>thalachh</th>\n",
       "      <th>exng</th>\n",
       "      <th>oldpeak</th>\n",
       "      <th>slp</th>\n",
       "      <th>caa</th>\n",
       "      <th>thall</th>\n",
       "      <th>output</th>\n",
       "    </tr>\n",
       "  </thead>\n",
       "  <tbody>\n",
       "    <tr>\n",
       "      <th>0</th>\n",
       "      <td>63</td>\n",
       "      <td>1</td>\n",
       "      <td>3</td>\n",
       "      <td>145</td>\n",
       "      <td>233</td>\n",
       "      <td>1</td>\n",
       "      <td>0</td>\n",
       "      <td>150</td>\n",
       "      <td>0</td>\n",
       "      <td>2.3</td>\n",
       "      <td>0</td>\n",
       "      <td>0</td>\n",
       "      <td>1</td>\n",
       "      <td>1</td>\n",
       "    </tr>\n",
       "    <tr>\n",
       "      <th>1</th>\n",
       "      <td>37</td>\n",
       "      <td>1</td>\n",
       "      <td>2</td>\n",
       "      <td>130</td>\n",
       "      <td>250</td>\n",
       "      <td>0</td>\n",
       "      <td>1</td>\n",
       "      <td>187</td>\n",
       "      <td>0</td>\n",
       "      <td>3.5</td>\n",
       "      <td>0</td>\n",
       "      <td>0</td>\n",
       "      <td>2</td>\n",
       "      <td>1</td>\n",
       "    </tr>\n",
       "    <tr>\n",
       "      <th>2</th>\n",
       "      <td>41</td>\n",
       "      <td>0</td>\n",
       "      <td>1</td>\n",
       "      <td>130</td>\n",
       "      <td>204</td>\n",
       "      <td>0</td>\n",
       "      <td>0</td>\n",
       "      <td>172</td>\n",
       "      <td>0</td>\n",
       "      <td>1.4</td>\n",
       "      <td>2</td>\n",
       "      <td>0</td>\n",
       "      <td>2</td>\n",
       "      <td>1</td>\n",
       "    </tr>\n",
       "    <tr>\n",
       "      <th>3</th>\n",
       "      <td>56</td>\n",
       "      <td>1</td>\n",
       "      <td>1</td>\n",
       "      <td>120</td>\n",
       "      <td>236</td>\n",
       "      <td>0</td>\n",
       "      <td>1</td>\n",
       "      <td>178</td>\n",
       "      <td>0</td>\n",
       "      <td>0.8</td>\n",
       "      <td>2</td>\n",
       "      <td>0</td>\n",
       "      <td>2</td>\n",
       "      <td>1</td>\n",
       "    </tr>\n",
       "    <tr>\n",
       "      <th>4</th>\n",
       "      <td>57</td>\n",
       "      <td>0</td>\n",
       "      <td>0</td>\n",
       "      <td>120</td>\n",
       "      <td>354</td>\n",
       "      <td>0</td>\n",
       "      <td>1</td>\n",
       "      <td>163</td>\n",
       "      <td>1</td>\n",
       "      <td>0.6</td>\n",
       "      <td>2</td>\n",
       "      <td>0</td>\n",
       "      <td>2</td>\n",
       "      <td>1</td>\n",
       "    </tr>\n",
       "  </tbody>\n",
       "</table>\n",
       "</div>"
      ],
      "text/plain": [
       "   age  sex  cp  trtbps  chol  fbs  restecg  thalachh  exng  oldpeak  slp  \\\n",
       "0   63    1   3     145   233    1        0       150     0      2.3    0   \n",
       "1   37    1   2     130   250    0        1       187     0      3.5    0   \n",
       "2   41    0   1     130   204    0        0       172     0      1.4    2   \n",
       "3   56    1   1     120   236    0        1       178     0      0.8    2   \n",
       "4   57    0   0     120   354    0        1       163     1      0.6    2   \n",
       "\n",
       "   caa  thall  output  \n",
       "0    0      1       1  \n",
       "1    0      2       1  \n",
       "2    0      2       1  \n",
       "3    0      2       1  \n",
       "4    0      2       1  "
      ]
     },
     "execution_count": 4,
     "metadata": {},
     "output_type": "execute_result"
    }
   ],
   "source": [
    "df.head(5)"
   ]
  },
  {
   "cell_type": "markdown",
   "id": "abf60640",
   "metadata": {},
   "source": [
    "## 2. Explorando os dados"
   ]
  },
  {
   "cell_type": "code",
   "execution_count": 5,
   "id": "6936bdca",
   "metadata": {},
   "outputs": [
    {
     "data": {
      "text/plain": [
       "(303, 14)"
      ]
     },
     "execution_count": 5,
     "metadata": {},
     "output_type": "execute_result"
    }
   ],
   "source": [
    "df.shape"
   ]
  },
  {
   "cell_type": "code",
   "execution_count": 6,
   "id": "e28adceb",
   "metadata": {},
   "outputs": [
    {
     "data": {
      "text/html": [
       "<div>\n",
       "<style scoped>\n",
       "    .dataframe tbody tr th:only-of-type {\n",
       "        vertical-align: middle;\n",
       "    }\n",
       "\n",
       "    .dataframe tbody tr th {\n",
       "        vertical-align: top;\n",
       "    }\n",
       "\n",
       "    .dataframe thead th {\n",
       "        text-align: right;\n",
       "    }\n",
       "</style>\n",
       "<table border=\"1\" class=\"dataframe\">\n",
       "  <thead>\n",
       "    <tr style=\"text-align: right;\">\n",
       "      <th></th>\n",
       "      <th>age</th>\n",
       "      <th>sex</th>\n",
       "      <th>cp</th>\n",
       "      <th>trtbps</th>\n",
       "      <th>chol</th>\n",
       "      <th>fbs</th>\n",
       "      <th>restecg</th>\n",
       "      <th>thalachh</th>\n",
       "      <th>exng</th>\n",
       "      <th>oldpeak</th>\n",
       "      <th>slp</th>\n",
       "      <th>caa</th>\n",
       "      <th>thall</th>\n",
       "      <th>output</th>\n",
       "    </tr>\n",
       "  </thead>\n",
       "  <tbody>\n",
       "    <tr>\n",
       "      <th>count</th>\n",
       "      <td>303.000000</td>\n",
       "      <td>303.000000</td>\n",
       "      <td>303.000000</td>\n",
       "      <td>303.000000</td>\n",
       "      <td>303.000000</td>\n",
       "      <td>303.000000</td>\n",
       "      <td>303.000000</td>\n",
       "      <td>303.000000</td>\n",
       "      <td>303.000000</td>\n",
       "      <td>303.000000</td>\n",
       "      <td>303.000000</td>\n",
       "      <td>303.000000</td>\n",
       "      <td>303.000000</td>\n",
       "      <td>303.000000</td>\n",
       "    </tr>\n",
       "    <tr>\n",
       "      <th>mean</th>\n",
       "      <td>54.366337</td>\n",
       "      <td>0.683168</td>\n",
       "      <td>0.966997</td>\n",
       "      <td>131.623762</td>\n",
       "      <td>246.264026</td>\n",
       "      <td>0.148515</td>\n",
       "      <td>0.528053</td>\n",
       "      <td>149.646865</td>\n",
       "      <td>0.326733</td>\n",
       "      <td>1.039604</td>\n",
       "      <td>1.399340</td>\n",
       "      <td>0.729373</td>\n",
       "      <td>2.313531</td>\n",
       "      <td>0.544554</td>\n",
       "    </tr>\n",
       "    <tr>\n",
       "      <th>std</th>\n",
       "      <td>9.082101</td>\n",
       "      <td>0.466011</td>\n",
       "      <td>1.032052</td>\n",
       "      <td>17.538143</td>\n",
       "      <td>51.830751</td>\n",
       "      <td>0.356198</td>\n",
       "      <td>0.525860</td>\n",
       "      <td>22.905161</td>\n",
       "      <td>0.469794</td>\n",
       "      <td>1.161075</td>\n",
       "      <td>0.616226</td>\n",
       "      <td>1.022606</td>\n",
       "      <td>0.612277</td>\n",
       "      <td>0.498835</td>\n",
       "    </tr>\n",
       "    <tr>\n",
       "      <th>min</th>\n",
       "      <td>29.000000</td>\n",
       "      <td>0.000000</td>\n",
       "      <td>0.000000</td>\n",
       "      <td>94.000000</td>\n",
       "      <td>126.000000</td>\n",
       "      <td>0.000000</td>\n",
       "      <td>0.000000</td>\n",
       "      <td>71.000000</td>\n",
       "      <td>0.000000</td>\n",
       "      <td>0.000000</td>\n",
       "      <td>0.000000</td>\n",
       "      <td>0.000000</td>\n",
       "      <td>0.000000</td>\n",
       "      <td>0.000000</td>\n",
       "    </tr>\n",
       "    <tr>\n",
       "      <th>25%</th>\n",
       "      <td>47.500000</td>\n",
       "      <td>0.000000</td>\n",
       "      <td>0.000000</td>\n",
       "      <td>120.000000</td>\n",
       "      <td>211.000000</td>\n",
       "      <td>0.000000</td>\n",
       "      <td>0.000000</td>\n",
       "      <td>133.500000</td>\n",
       "      <td>0.000000</td>\n",
       "      <td>0.000000</td>\n",
       "      <td>1.000000</td>\n",
       "      <td>0.000000</td>\n",
       "      <td>2.000000</td>\n",
       "      <td>0.000000</td>\n",
       "    </tr>\n",
       "    <tr>\n",
       "      <th>50%</th>\n",
       "      <td>55.000000</td>\n",
       "      <td>1.000000</td>\n",
       "      <td>1.000000</td>\n",
       "      <td>130.000000</td>\n",
       "      <td>240.000000</td>\n",
       "      <td>0.000000</td>\n",
       "      <td>1.000000</td>\n",
       "      <td>153.000000</td>\n",
       "      <td>0.000000</td>\n",
       "      <td>0.800000</td>\n",
       "      <td>1.000000</td>\n",
       "      <td>0.000000</td>\n",
       "      <td>2.000000</td>\n",
       "      <td>1.000000</td>\n",
       "    </tr>\n",
       "    <tr>\n",
       "      <th>75%</th>\n",
       "      <td>61.000000</td>\n",
       "      <td>1.000000</td>\n",
       "      <td>2.000000</td>\n",
       "      <td>140.000000</td>\n",
       "      <td>274.500000</td>\n",
       "      <td>0.000000</td>\n",
       "      <td>1.000000</td>\n",
       "      <td>166.000000</td>\n",
       "      <td>1.000000</td>\n",
       "      <td>1.600000</td>\n",
       "      <td>2.000000</td>\n",
       "      <td>1.000000</td>\n",
       "      <td>3.000000</td>\n",
       "      <td>1.000000</td>\n",
       "    </tr>\n",
       "    <tr>\n",
       "      <th>max</th>\n",
       "      <td>77.000000</td>\n",
       "      <td>1.000000</td>\n",
       "      <td>3.000000</td>\n",
       "      <td>200.000000</td>\n",
       "      <td>564.000000</td>\n",
       "      <td>1.000000</td>\n",
       "      <td>2.000000</td>\n",
       "      <td>202.000000</td>\n",
       "      <td>1.000000</td>\n",
       "      <td>6.200000</td>\n",
       "      <td>2.000000</td>\n",
       "      <td>4.000000</td>\n",
       "      <td>3.000000</td>\n",
       "      <td>1.000000</td>\n",
       "    </tr>\n",
       "  </tbody>\n",
       "</table>\n",
       "</div>"
      ],
      "text/plain": [
       "              age         sex          cp      trtbps        chol         fbs  \\\n",
       "count  303.000000  303.000000  303.000000  303.000000  303.000000  303.000000   \n",
       "mean    54.366337    0.683168    0.966997  131.623762  246.264026    0.148515   \n",
       "std      9.082101    0.466011    1.032052   17.538143   51.830751    0.356198   \n",
       "min     29.000000    0.000000    0.000000   94.000000  126.000000    0.000000   \n",
       "25%     47.500000    0.000000    0.000000  120.000000  211.000000    0.000000   \n",
       "50%     55.000000    1.000000    1.000000  130.000000  240.000000    0.000000   \n",
       "75%     61.000000    1.000000    2.000000  140.000000  274.500000    0.000000   \n",
       "max     77.000000    1.000000    3.000000  200.000000  564.000000    1.000000   \n",
       "\n",
       "          restecg    thalachh        exng     oldpeak         slp         caa  \\\n",
       "count  303.000000  303.000000  303.000000  303.000000  303.000000  303.000000   \n",
       "mean     0.528053  149.646865    0.326733    1.039604    1.399340    0.729373   \n",
       "std      0.525860   22.905161    0.469794    1.161075    0.616226    1.022606   \n",
       "min      0.000000   71.000000    0.000000    0.000000    0.000000    0.000000   \n",
       "25%      0.000000  133.500000    0.000000    0.000000    1.000000    0.000000   \n",
       "50%      1.000000  153.000000    0.000000    0.800000    1.000000    0.000000   \n",
       "75%      1.000000  166.000000    1.000000    1.600000    2.000000    1.000000   \n",
       "max      2.000000  202.000000    1.000000    6.200000    2.000000    4.000000   \n",
       "\n",
       "            thall      output  \n",
       "count  303.000000  303.000000  \n",
       "mean     2.313531    0.544554  \n",
       "std      0.612277    0.498835  \n",
       "min      0.000000    0.000000  \n",
       "25%      2.000000    0.000000  \n",
       "50%      2.000000    1.000000  \n",
       "75%      3.000000    1.000000  \n",
       "max      3.000000    1.000000  "
      ]
     },
     "execution_count": 6,
     "metadata": {},
     "output_type": "execute_result"
    }
   ],
   "source": [
    "df.describe()"
   ]
  },
  {
   "cell_type": "code",
   "execution_count": 8,
   "id": "4d334975",
   "metadata": {},
   "outputs": [
    {
     "data": {
      "text/plain": [
       "1    165\n",
       "0    138\n",
       "Name: output, dtype: int64"
      ]
     },
     "execution_count": 8,
     "metadata": {},
     "output_type": "execute_result"
    }
   ],
   "source": [
    "df['output'].value_counts()"
   ]
  },
  {
   "cell_type": "code",
   "execution_count": 10,
   "id": "df5ce8e2",
   "metadata": {},
   "outputs": [
    {
     "data": {
      "image/png": "[encoded data removed]",
      "text/plain": [
       "<Figure size 640x480 with 1 Axes>"
      ]
     },
     "metadata": {},
     "output_type": "display_data"
    }
   ],
   "source": [
    "import seaborn as sns\n",
    "%matplotlib inline\n",
    "ax = sns.countplot(x='output', data=df)"
   ]
  },
  {
   "cell_type": "code",
   "execution_count": 11,
   "id": "9467aa00",
   "metadata": {},
   "outputs": [
    {
     "data": {
      "text/html": [
       "<div>\n",
       "<style scoped>\n",
       "    .dataframe tbody tr th:only-of-type {\n",
       "        vertical-align: middle;\n",
       "    }\n",
       "\n",
       "    .dataframe tbody tr th {\n",
       "        vertical-align: top;\n",
       "    }\n",
       "\n",
       "    .dataframe thead th {\n",
       "        text-align: right;\n",
       "    }\n",
       "</style>\n",
       "<table border=\"1\" class=\"dataframe\">\n",
       "  <thead>\n",
       "    <tr style=\"text-align: right;\">\n",
       "      <th></th>\n",
       "      <th>age</th>\n",
       "      <th>sex</th>\n",
       "      <th>cp</th>\n",
       "      <th>trtbps</th>\n",
       "      <th>chol</th>\n",
       "      <th>fbs</th>\n",
       "      <th>restecg</th>\n",
       "      <th>thalachh</th>\n",
       "      <th>exng</th>\n",
       "      <th>oldpeak</th>\n",
       "      <th>slp</th>\n",
       "      <th>caa</th>\n",
       "      <th>thall</th>\n",
       "    </tr>\n",
       "    <tr>\n",
       "      <th>output</th>\n",
       "      <th></th>\n",
       "      <th></th>\n",
       "      <th></th>\n",
       "      <th></th>\n",
       "      <th></th>\n",
       "      <th></th>\n",
       "      <th></th>\n",
       "      <th></th>\n",
       "      <th></th>\n",
       "      <th></th>\n",
       "      <th></th>\n",
       "      <th></th>\n",
       "      <th></th>\n",
       "    </tr>\n",
       "  </thead>\n",
       "  <tbody>\n",
       "    <tr>\n",
       "      <th>0</th>\n",
       "      <td>56.601449</td>\n",
       "      <td>0.826087</td>\n",
       "      <td>0.478261</td>\n",
       "      <td>134.398551</td>\n",
       "      <td>251.086957</td>\n",
       "      <td>0.159420</td>\n",
       "      <td>0.449275</td>\n",
       "      <td>139.101449</td>\n",
       "      <td>0.550725</td>\n",
       "      <td>1.585507</td>\n",
       "      <td>1.166667</td>\n",
       "      <td>1.166667</td>\n",
       "      <td>2.543478</td>\n",
       "    </tr>\n",
       "    <tr>\n",
       "      <th>1</th>\n",
       "      <td>52.496970</td>\n",
       "      <td>0.563636</td>\n",
       "      <td>1.375758</td>\n",
       "      <td>129.303030</td>\n",
       "      <td>242.230303</td>\n",
       "      <td>0.139394</td>\n",
       "      <td>0.593939</td>\n",
       "      <td>158.466667</td>\n",
       "      <td>0.139394</td>\n",
       "      <td>0.583030</td>\n",
       "      <td>1.593939</td>\n",
       "      <td>0.363636</td>\n",
       "      <td>2.121212</td>\n",
       "    </tr>\n",
       "  </tbody>\n",
       "</table>\n",
       "</div>"
      ],
      "text/plain": [
       "              age       sex        cp      trtbps        chol       fbs  \\\n",
       "output                                                                    \n",
       "0       56.601449  0.826087  0.478261  134.398551  251.086957  0.159420   \n",
       "1       52.496970  0.563636  1.375758  129.303030  242.230303  0.139394   \n",
       "\n",
       "         restecg    thalachh      exng   oldpeak       slp       caa     thall  \n",
       "output                                                                          \n",
       "0       0.449275  139.101449  0.550725  1.585507  1.166667  1.166667  2.543478  \n",
       "1       0.593939  158.466667  0.139394  0.583030  1.593939  0.363636  2.121212  "
      ]
     },
     "execution_count": 11,
     "metadata": {},
     "output_type": "execute_result"
    }
   ],
   "source": [
    "df.groupby('output').mean()"
   ]
  },
  {
   "cell_type": "markdown",
   "id": "c8d6b72a",
   "metadata": {},
   "source": [
    "## 3. Separando data e label"
   ]
  },
  {
   "cell_type": "code",
   "execution_count": 14,
   "id": "a5434716",
   "metadata": {},
   "outputs": [],
   "source": [
    "X = df.drop('output', axis = 1)\n",
    "y = df['output']"
   ]
  },
  {
   "cell_type": "markdown",
   "id": "ac550e5a",
   "metadata": {},
   "source": [
    "## 4. Padronizando dados"
   ]
  },
  {
   "cell_type": "code",
   "execution_count": 16,
   "id": "ebc1d1ce",
   "metadata": {},
   "outputs": [],
   "source": [
    "from sklearn.preprocessing import StandardScaler"
   ]
  },
  {
   "cell_type": "code",
   "execution_count": 17,
   "id": "0f090379",
   "metadata": {},
   "outputs": [
    {
     "data": {
      "text/plain": [
       "array([[ 0.9521966 ,  0.68100522,  1.97312292, ..., -2.27457861,\n",
       "        -0.71442887, -2.14887271],\n",
       "       [-1.91531289,  0.68100522,  1.00257707, ..., -2.27457861,\n",
       "        -0.71442887, -0.51292188],\n",
       "       [-1.47415758, -1.46841752,  0.03203122, ...,  0.97635214,\n",
       "        -0.71442887, -0.51292188],\n",
       "       ...,\n",
       "       [ 1.50364073,  0.68100522, -0.93851463, ..., -0.64911323,\n",
       "         1.24459328,  1.12302895],\n",
       "       [ 0.29046364,  0.68100522, -0.93851463, ..., -0.64911323,\n",
       "         0.26508221,  1.12302895],\n",
       "       [ 0.29046364, -1.46841752,  0.03203122, ..., -0.64911323,\n",
       "         0.26508221, -0.51292188]])"
      ]
     },
     "execution_count": 17,
     "metadata": {},
     "output_type": "execute_result"
    }
   ],
   "source": [
    "scaler = StandardScaler()\n",
    "X_normalizado = scaler.fit_transform(X)\n",
    "X_normalizado"
   ]
  },
  {
   "cell_type": "markdown",
   "id": "375a105f",
   "metadata": {},
   "source": [
    "## 5. Implementando o Modelo K-nearest neighbors (KNN)"
   ]
  },
  {
   "cell_type": "markdown",
   "id": "197c693f",
   "metadata": {},
   "source": [
    "### 5.1 Separando treino e teste"
   ]
  },
  {
   "cell_type": "code",
   "execution_count": 19,
   "id": "0ee0dbb0",
   "metadata": {},
   "outputs": [],
   "source": [
    "from sklearn.model_selection import train_test_split"
   ]
  },
  {
   "cell_type": "code",
   "execution_count": 20,
   "id": "cd6cb70c",
   "metadata": {},
   "outputs": [],
   "source": [
    "X_treino, X_teste, y_treino, y_teste = train_test_split(X_normalizado, y, test_size=0.3, random_state=123)"
   ]
  },
  {
   "cell_type": "code",
   "execution_count": 21,
   "id": "8d4a6e6c",
   "metadata": {},
   "outputs": [],
   "source": [
    "# Biblioteca para criarmos o modelo de machine learning\n",
    "from sklearn.neighbors import KNeighborsClassifier"
   ]
  },
  {
   "cell_type": "code",
   "execution_count": 22,
   "id": "ad9be8a9",
   "metadata": {},
   "outputs": [],
   "source": [
    "# Instanciar o modelo (criamos o modelo) - por padrão são 5 vizinhos  \n",
    "knn = KNeighborsClassifier(metric='euclidean')"
   ]
  },
  {
   "cell_type": "code",
   "execution_count": 23,
   "id": "4a6ca68f",
   "metadata": {},
   "outputs": [
    {
     "data": {
      "text/plain": [
       "KNeighborsClassifier(metric='euclidean')"
      ]
     },
     "execution_count": 23,
     "metadata": {},
     "output_type": "execute_result"
    }
   ],
   "source": [
    "# Treinando o modelo com os dados de treino\n",
    "knn.fit(X_treino, y_treino)"
   ]
  },
  {
   "cell_type": "code",
   "execution_count": 24,
   "id": "44c5561e",
   "metadata": {},
   "outputs": [
    {
     "name": "stderr",
     "output_type": "stream",
     "text": [
      "G:\\Anaconda\\lib\\site-packages\\sklearn\\neighbors\\_classification.py:228: FutureWarning: Unlike other reduction functions (e.g. `skew`, `kurtosis`), the default behavior of `mode` typically preserves the axis it acts along. In SciPy 1.11.0, this behavior will change: the default value of `keepdims` will become False, the `axis` over which the statistic is taken will be eliminated, and the value None will no longer be accepted. Set `keepdims` to True or False to avoid this warning.\n",
      "  mode, _ = stats.mode(_y[neigh_ind, k], axis=1)\n"
     ]
    }
   ],
   "source": [
    "# Testando o modelo com os dados de teste\n",
    "predito_knn = knn.predict(X_teste)"
   ]
  },
  {
   "cell_type": "code",
   "execution_count": 25,
   "id": "87767d1e",
   "metadata": {},
   "outputs": [
    {
     "data": {
      "text/plain": [
       "array([1, 0, 0, 0, 1, 0, 1, 0, 1, 1, 0, 0, 0, 0, 0, 0, 0, 0, 0, 1, 1, 0,\n",
       "       1, 0, 1, 0, 0, 1, 0, 0, 0, 1, 1, 0, 1, 1, 1, 1, 1, 1, 1, 0, 0, 1,\n",
       "       1, 0, 0, 0, 1, 1, 0, 0, 1, 1, 0, 1, 0, 1, 1, 1, 0, 1, 1, 0, 0, 1,\n",
       "       1, 1, 0, 1, 0, 0, 1, 0, 1, 0, 1, 1, 1, 0, 1, 1, 1, 1, 1, 0, 0, 1,\n",
       "       1, 0, 0], dtype=int64)"
      ]
     },
     "execution_count": 25,
     "metadata": {},
     "output_type": "execute_result"
    }
   ],
   "source": [
    "predito_knn"
   ]
  },
  {
   "cell_type": "markdown",
   "id": "bd6cd122",
   "metadata": {},
   "source": [
    "## 6. Implementando o Modelo Bernoulli Naive Bayes"
   ]
  },
  {
   "cell_type": "markdown",
   "id": "4d07f66e",
   "metadata": {},
   "source": [
    "### 6.1 Separando treino e teste"
   ]
  },
  {
   "cell_type": "code",
   "execution_count": 28,
   "id": "c17bb2ac",
   "metadata": {},
   "outputs": [],
   "source": [
    "# Biblioteca para criarmos o modelo de machine learning\n",
    "from sklearn.naive_bayes import BernoulliNB"
   ]
  },
  {
   "cell_type": "code",
   "execution_count": 30,
   "id": "50555a60",
   "metadata": {},
   "outputs": [],
   "source": [
    "# Instanciamos o modelo\n",
    "bnb = BernoulliNB(binarize=-0.44)"
   ]
  },
  {
   "cell_type": "code",
   "execution_count": 33,
   "id": "f60d3348",
   "metadata": {},
   "outputs": [
    {
     "data": {
      "text/plain": [
       "-0.26098049056771283"
      ]
     },
     "execution_count": 33,
     "metadata": {},
     "output_type": "execute_result"
    }
   ],
   "source": [
    "# Escolho utilizar mediana, porque é o valor central dos nossos dados ordenados\n",
    "import numpy as np\n",
    "np.median(X_treino)"
   ]
  },
  {
   "cell_type": "code",
   "execution_count": 34,
   "id": "3c62ea97",
   "metadata": {},
   "outputs": [
    {
     "data": {
      "text/plain": [
       "array([[ 0.18017482,  0.68100522,  1.00257707, ..., -0.64911323,\n",
       "         0.26508221, -2.14887271],\n",
       "       [-1.36386876,  0.68100522,  0.03203122, ...,  0.97635214,\n",
       "        -0.71442887, -0.51292188],\n",
       "       [ 0.62133012, -1.46841752,  1.00257707, ...,  0.97635214,\n",
       "        -0.71442887, -0.51292188],\n",
       "       ...,\n",
       "       [ 1.28306308, -1.46841752,  1.97312292, ..., -2.27457861,\n",
       "        -0.71442887, -0.51292188],\n",
       "       [-0.81242462,  0.68100522,  1.00257707, ...,  0.97635214,\n",
       "        -0.71442887, -0.51292188],\n",
       "       [-1.25357993,  0.68100522,  1.00257707, ...,  0.97635214,\n",
       "         0.26508221, -0.51292188]])"
      ]
     },
     "execution_count": 34,
     "metadata": {},
     "output_type": "execute_result"
    }
   ],
   "source": [
    "X_treino"
   ]
  },
  {
   "cell_type": "code",
   "execution_count": 35,
   "id": "b5a6b21a",
   "metadata": {},
   "outputs": [
    {
     "data": {
      "text/plain": [
       "170    0\n",
       "132    1\n",
       "136    1\n",
       "286    0\n",
       "166    0\n",
       "      ..\n",
       "106    1\n",
       "83     1\n",
       "17     1\n",
       "230    0\n",
       "98     1\n",
       "Name: output, Length: 212, dtype: int64"
      ]
     },
     "execution_count": 35,
     "metadata": {},
     "output_type": "execute_result"
    }
   ],
   "source": [
    "y_treino"
   ]
  },
  {
   "cell_type": "code",
   "execution_count": 36,
   "id": "ef84b923",
   "metadata": {},
   "outputs": [
    {
     "data": {
      "text/plain": [
       "BernoulliNB(binarize=-0.44)"
      ]
     },
     "execution_count": 36,
     "metadata": {},
     "output_type": "execute_result"
    }
   ],
   "source": [
    "# Treinar o modelo\n",
    "bnb.fit(X_treino, y_treino)"
   ]
  },
  {
   "cell_type": "code",
   "execution_count": 37,
   "id": "e9ec5eaf",
   "metadata": {},
   "outputs": [],
   "source": [
    "# Testar o modelo\n",
    "predito_BNb = bnb.predict(X_teste)"
   ]
  },
  {
   "cell_type": "code",
   "execution_count": 38,
   "id": "4ab8e7dd",
   "metadata": {},
   "outputs": [
    {
     "data": {
      "text/plain": [
       "array([1, 0, 0, 0, 1, 0, 1, 0, 1, 1, 0, 1, 0, 0, 0, 0, 0, 0, 0, 0, 1, 0,\n",
       "       1, 0, 0, 1, 0, 0, 0, 0, 0, 1, 1, 0, 1, 1, 1, 1, 1, 1, 1, 1, 0, 1,\n",
       "       1, 0, 0, 0, 1, 1, 0, 0, 1, 0, 0, 1, 0, 1, 0, 1, 0, 1, 1, 1, 0, 1,\n",
       "       1, 1, 0, 1, 0, 0, 1, 0, 1, 0, 1, 1, 1, 0, 1, 1, 1, 0, 1, 0, 0, 1,\n",
       "       1, 0, 0], dtype=int64)"
      ]
     },
     "execution_count": 38,
     "metadata": {},
     "output_type": "execute_result"
    }
   ],
   "source": [
    "predito_BNb"
   ]
  },
  {
   "cell_type": "markdown",
   "id": "439d42fe",
   "metadata": {},
   "source": [
    "## 7. Implementando o Modelo Decision Three"
   ]
  },
  {
   "cell_type": "code",
   "execution_count": 40,
   "id": "5053e540",
   "metadata": {},
   "outputs": [],
   "source": [
    "# Biblioteca para criarmos o modelo de machine learning\n",
    "from sklearn.tree import DecisionTreeClassifier"
   ]
  },
  {
   "cell_type": "code",
   "execution_count": 41,
   "id": "8476a892",
   "metadata": {},
   "outputs": [],
   "source": [
    "# Instanciando o modelo\n",
    "dtc = DecisionTreeClassifier(criterion='entropy', random_state=42)"
   ]
  },
  {
   "cell_type": "code",
   "execution_count": 42,
   "id": "2bfaf106",
   "metadata": {},
   "outputs": [
    {
     "data": {
      "text/plain": [
       "DecisionTreeClassifier(criterion='entropy', random_state=42)"
      ]
     },
     "execution_count": 42,
     "metadata": {},
     "output_type": "execute_result"
    }
   ],
   "source": [
    "# Treinar o modelo\n",
    "dtc.fit(X_treino, y_treino)"
   ]
  },
  {
   "cell_type": "code",
   "execution_count": 43,
   "id": "c083846a",
   "metadata": {},
   "outputs": [
    {
     "data": {
      "text/plain": [
       "array([0.07055328, 0.04859979, 0.21542524, 0.01907541, 0.10531278,\n",
       "       0.        , 0.01567501, 0.0768501 , 0.00935124, 0.11602371,\n",
       "       0.026571  , 0.16650736, 0.13005506])"
      ]
     },
     "execution_count": 43,
     "metadata": {},
     "output_type": "execute_result"
    }
   ],
   "source": [
    "# Verificar a importância de cada atributo\n",
    "dtc.feature_importances_"
   ]
  },
  {
   "cell_type": "code",
   "execution_count": 44,
   "id": "da7b7432",
   "metadata": {},
   "outputs": [],
   "source": [
    "predito_ArvoreDecisao = dtc.predict(X_teste)"
   ]
  },
  {
   "cell_type": "code",
   "execution_count": 46,
   "id": "627f1164",
   "metadata": {},
   "outputs": [
    {
     "data": {
      "text/plain": [
       "array([1, 0, 0, 0, 1, 0, 1, 1, 1, 1, 0, 0, 0, 0, 1, 0, 0, 1, 0, 1, 1, 1,\n",
       "       1, 0, 0, 1, 0, 1, 0, 0, 0, 1, 1, 1, 1, 1, 1, 0, 1, 1, 1, 0, 1, 1,\n",
       "       1, 0, 0, 0, 1, 1, 0, 0, 1, 0, 1, 1, 0, 0, 1, 0, 1, 1, 0, 0, 0, 1,\n",
       "       1, 0, 1, 1, 0, 0, 1, 0, 0, 0, 1, 1, 1, 0, 1, 0, 1, 1, 0, 1, 0, 1,\n",
       "       1, 0, 0], dtype=int64)"
      ]
     },
     "execution_count": 46,
     "metadata": {},
     "output_type": "execute_result"
    }
   ],
   "source": [
    "predito_ArvoreDecisao"
   ]
  },
  {
   "cell_type": "markdown",
   "id": "0aa7bb66",
   "metadata": {},
   "source": [
    "## 8. Validando os modelos"
   ]
  },
  {
   "cell_type": "markdown",
   "id": "8fb9f4cc",
   "metadata": {},
   "source": [
    "### 8.1 Matriz de confusão"
   ]
  },
  {
   "cell_type": "code",
   "execution_count": 49,
   "id": "5ea3d6de",
   "metadata": {},
   "outputs": [],
   "source": [
    "from sklearn.metrics import confusion_matrix"
   ]
  },
  {
   "cell_type": "code",
   "execution_count": 50,
   "id": "e5b874ca",
   "metadata": {},
   "outputs": [
    {
     "name": "stdout",
     "output_type": "stream",
     "text": [
      "[[37  8]\n",
      " [ 7 39]]\n"
     ]
    }
   ],
   "source": [
    "print(confusion_matrix(y_teste, predito_knn))"
   ]
  },
  {
   "cell_type": "code",
   "execution_count": 51,
   "id": "84cbf6e6",
   "metadata": {},
   "outputs": [
    {
     "name": "stdout",
     "output_type": "stream",
     "text": [
      "[[38  7]\n",
      " [ 8 38]]\n"
     ]
    }
   ],
   "source": [
    "print(confusion_matrix(y_teste, predito_BNb))"
   ]
  },
  {
   "cell_type": "code",
   "execution_count": 52,
   "id": "a2ea892e",
   "metadata": {},
   "outputs": [
    {
     "name": "stdout",
     "output_type": "stream",
     "text": [
      "[[31 14]\n",
      " [12 34]]\n"
     ]
    }
   ],
   "source": [
    "print(confusion_matrix(y_teste, predito_ArvoreDecisao))"
   ]
  },
  {
   "cell_type": "markdown",
   "id": "074c39d5",
   "metadata": {},
   "source": [
    "## 8.2 Acurácia"
   ]
  },
  {
   "cell_type": "code",
   "execution_count": 53,
   "id": "65aa7d96",
   "metadata": {},
   "outputs": [],
   "source": [
    "from sklearn.metrics import accuracy_score"
   ]
  },
  {
   "cell_type": "code",
   "execution_count": 54,
   "id": "c9a17077",
   "metadata": {},
   "outputs": [
    {
     "name": "stdout",
     "output_type": "stream",
     "text": [
      "0.8351648351648352\n"
     ]
    }
   ],
   "source": [
    "# Modelo KNN\n",
    "print(accuracy_score(y_teste, predito_knn))"
   ]
  },
  {
   "cell_type": "code",
   "execution_count": 55,
   "id": "a5f87954",
   "metadata": {},
   "outputs": [
    {
     "name": "stdout",
     "output_type": "stream",
     "text": [
      "0.8351648351648352\n"
     ]
    }
   ],
   "source": [
    "# Modelo Bernoulli de naive bayes\n",
    "print(accuracy_score(y_teste, predito_BNb))"
   ]
  },
  {
   "cell_type": "code",
   "execution_count": 56,
   "id": "00ea4bd5",
   "metadata": {},
   "outputs": [
    {
     "name": "stdout",
     "output_type": "stream",
     "text": [
      "0.7142857142857143\n"
     ]
    }
   ],
   "source": [
    "# Modelo árvore de decisão\n",
    "print(accuracy_score(y_teste, predito_ArvoreDecisao))"
   ]
  },
  {
   "cell_type": "markdown",
   "id": "97799332",
   "metadata": {},
   "source": [
    "## 8.3 Precisão"
   ]
  },
  {
   "cell_type": "code",
   "execution_count": 57,
   "id": "8134817b",
   "metadata": {},
   "outputs": [],
   "source": [
    "from sklearn.metrics import precision_score"
   ]
  },
  {
   "cell_type": "code",
   "execution_count": 58,
   "id": "1bd41d92",
   "metadata": {},
   "outputs": [
    {
     "name": "stdout",
     "output_type": "stream",
     "text": [
      "0.8297872340425532\n"
     ]
    }
   ],
   "source": [
    "# Modelo KNN\n",
    "print(precision_score(y_teste, predito_knn))"
   ]
  },
  {
   "cell_type": "code",
   "execution_count": 59,
   "id": "f57a0051",
   "metadata": {},
   "outputs": [
    {
     "name": "stdout",
     "output_type": "stream",
     "text": [
      "0.8444444444444444\n"
     ]
    }
   ],
   "source": [
    "# Modelo Bernoulli de naive bayes\n",
    "print(precision_score(y_teste, predito_BNb))"
   ]
  },
  {
   "cell_type": "code",
   "execution_count": 60,
   "id": "a404f53f",
   "metadata": {},
   "outputs": [
    {
     "name": "stdout",
     "output_type": "stream",
     "text": [
      "0.7083333333333334\n"
     ]
    }
   ],
   "source": [
    "# Modelo árvore de decisão\n",
    "print(precision_score(y_teste, predito_ArvoreDecisao))"
   ]
  },
  {
   "cell_type": "markdown",
   "id": "3e7f69d8",
   "metadata": {},
   "source": [
    "## 8.4 Recall"
   ]
  },
  {
   "cell_type": "code",
   "execution_count": 61,
   "id": "19eb8d58",
   "metadata": {},
   "outputs": [],
   "source": [
    "from sklearn.metrics import recall_score"
   ]
  },
  {
   "cell_type": "code",
   "execution_count": 62,
   "id": "6834d369",
   "metadata": {},
   "outputs": [
    {
     "name": "stdout",
     "output_type": "stream",
     "text": [
      "0.8478260869565217\n"
     ]
    }
   ],
   "source": [
    "# Modelo KNN\n",
    "print(recall_score(y_teste, predito_knn))"
   ]
  },
  {
   "cell_type": "code",
   "execution_count": 64,
   "id": "86251685",
   "metadata": {},
   "outputs": [
    {
     "name": "stdout",
     "output_type": "stream",
     "text": [
      "0.8260869565217391\n"
     ]
    }
   ],
   "source": [
    "# Modelo Bernoulli de naive bayes\n",
    "print(recall_score(y_teste, predito_BNb))"
   ]
  },
  {
   "cell_type": "code",
   "execution_count": 65,
   "id": "f5284ba7",
   "metadata": {},
   "outputs": [
    {
     "name": "stdout",
     "output_type": "stream",
     "text": [
      "0.7391304347826086\n"
     ]
    }
   ],
   "source": [
    "# Modelo árvore de decisão\n",
    "print(recall_score(y_teste, predito_ArvoreDecisao))"
   ]
  },
  {
   "cell_type": "markdown",
   "id": "ef74f1f8",
   "metadata": {},
   "source": [
    "## 9. Escolhendo melhor modelo"
   ]
  },
  {
   "cell_type": "code",
   "execution_count": 67,
   "id": "615fd339",
   "metadata": {},
   "outputs": [
    {
     "name": "stdout",
     "output_type": "stream",
     "text": [
      "Modelo KNN:  0.8297872340425532\n",
      "Modelo Bernoulli de Naive Bayes:  0.8444444444444444\n",
      "Modelo Árvore de Decisão:  0.7083333333333334\n"
     ]
    }
   ],
   "source": [
    "#Exemplo - análise das precisões calculadas anteriormente\n",
    "print('Modelo KNN: ', precision_score(y_teste, predito_knn))\n",
    "print('Modelo Bernoulli de Naive Bayes: ', precision_score(y_teste, predito_BNb))\n",
    "print('Modelo Árvore de Decisão: ', precision_score(y_teste, predito_ArvoreDecisao))"
   ]
  },
  {
   "cell_type": "markdown",
   "id": "221c398d",
   "metadata": {},
   "source": [
    "## 10. Sistema de previsão"
   ]
  },
  {
   "cell_type": "code",
   "execution_count": 107,
   "id": "ce85e433",
   "metadata": {},
   "outputs": [],
   "source": [
    "input1 = (44,1,2,140,235,0,0,180,0,0,2,0,2)"
   ]
  },
  {
   "cell_type": "code",
   "execution_count": 108,
   "id": "c74dc404",
   "metadata": {},
   "outputs": [
    {
     "data": {
      "text/plain": [
       "array([ 44,   1,   2, 140, 235,   0,   0, 180,   0,   0,   2,   0,   2])"
      ]
     },
     "execution_count": 108,
     "metadata": {},
     "output_type": "execute_result"
    }
   ],
   "source": [
    "input1_array = np.asarray(input1)\n",
    "input1_array"
   ]
  },
  {
   "cell_type": "code",
   "execution_count": 109,
   "id": "b5d92712",
   "metadata": {},
   "outputs": [
    {
     "data": {
      "text/plain": [
       "array([[ 44,   1,   2, 140, 235,   0,   0, 180,   0,   0,   2,   0,   2]])"
      ]
     },
     "execution_count": 109,
     "metadata": {},
     "output_type": "execute_result"
    }
   ],
   "source": [
    "input1_reshaped = input1_array.reshape(1, -1)\n",
    "input1_reshaped"
   ]
  },
  {
   "cell_type": "code",
   "execution_count": 110,
   "id": "62bea6db",
   "metadata": {},
   "outputs": [
    {
     "name": "stdout",
     "output_type": "stream",
     "text": [
      "[[-1.1432911   0.68100522  1.00257707  0.47839125 -0.21768274 -0.41763453\n",
      "  -1.00583187  1.32735793 -0.69663055 -0.89686172  0.97635214 -0.71442887\n",
      "  -0.51292188]]\n"
     ]
    },
    {
     "name": "stderr",
     "output_type": "stream",
     "text": [
      "G:\\Anaconda\\lib\\site-packages\\sklearn\\base.py:450: UserWarning: X does not have valid feature names, but StandardScaler was fitted with feature names\n",
      "  warnings.warn(\n"
     ]
    }
   ],
   "source": [
    "std_input1 = scaler.transform(input1_reshaped)\n",
    "print(std_input1)"
   ]
  },
  {
   "cell_type": "code",
   "execution_count": 111,
   "id": "1e7da406",
   "metadata": {},
   "outputs": [
    {
     "name": "stdout",
     "output_type": "stream",
     "text": [
      "[1]\n"
     ]
    }
   ],
   "source": [
    "prediction_dtc = dtc.predict(std_input1)\n",
    "print(prediction)"
   ]
  },
  {
   "cell_type": "code",
   "execution_count": 112,
   "id": "197c0012",
   "metadata": {},
   "outputs": [
    {
     "name": "stdout",
     "output_type": "stream",
     "text": [
      "Chances to have a heart attack\n"
     ]
    }
   ],
   "source": [
    "if (prediction_dtc[0] == 0):\n",
    "    print(\"No chances of heart attack\")\n",
    "else:\n",
    "    print(\"Chances to have a heart attack\")"
   ]
  },
  {
   "cell_type": "code",
   "execution_count": 113,
   "id": "ae1e44f9",
   "metadata": {},
   "outputs": [
    {
     "name": "stderr",
     "output_type": "stream",
     "text": [
      "G:\\Anaconda\\lib\\site-packages\\sklearn\\neighbors\\_classification.py:228: FutureWarning: Unlike other reduction functions (e.g. `skew`, `kurtosis`), the default behavior of `mode` typically preserves the axis it acts along. In SciPy 1.11.0, this behavior will change: the default value of `keepdims` will become False, the `axis` over which the statistic is taken will be eliminated, and the value None will no longer be accepted. Set `keepdims` to True or False to avoid this warning.\n",
      "  mode, _ = stats.mode(_y[neigh_ind, k], axis=1)\n"
     ]
    }
   ],
   "source": [
    "prediction_knn = knn.predict(std_input1)\n",
    "prediction_bnb = bnb.predict(std_input1)"
   ]
  },
  {
   "cell_type": "code",
   "execution_count": 116,
   "id": "0614405d",
   "metadata": {},
   "outputs": [
    {
     "name": "stdout",
     "output_type": "stream",
     "text": [
      "[1] = Chances of heart attack\n",
      "[0] = No chances of heart attack\n",
      "\n",
      "\n",
      "KNN Prediction =  [1]\n",
      "DTC Prediction =  [1]\n",
      "BNB Prediction =  [1]\n"
     ]
    }
   ],
   "source": [
    "print(\"[1] = Chances of heart attack\")\n",
    "print(\"[0] = No chances of heart attack\")\n",
    "print(\"\\n\")\n",
    "print(\"KNN Prediction = \", prediction_knn)\n",
    "print(\"DTC Prediction = \", prediction_dtc)\n",
    "print(\"BNB Prediction = \", prediction_bnb)"
   ]
  },
  {
   "cell_type": "code",
   "execution_count": null,
   "id": "c352328d",
   "metadata": {},
   "outputs": [],
   "source": []
  }
 ],
 "metadata": {
  "kernelspec": {
   "display_name": "Python 3 (ipykernel)",
   "language": "python",
   "name": "python3"
  },
  "language_info": {
   "codemirror_mode": {
    "name": "ipython",
    "version": 3
   },
   "file_extension": ".py",
   "mimetype": "text/x-python",
   "name": "python",
   "nbconvert_exporter": "python",
   "pygments_lexer": "ipython3",
   "version": "3.9.13"
  }
 },
 "nbformat": 4,
 "nbformat_minor": 5
}
